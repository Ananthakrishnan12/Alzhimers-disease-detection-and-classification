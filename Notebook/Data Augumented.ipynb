{
 "cells": [
  {
   "cell_type": "code",
   "execution_count": 2,
   "id": "dafbb3d3",
   "metadata": {},
   "outputs": [
    {
     "name": "stdout",
     "output_type": "stream",
     "text": [
      "Collecting opencv-python==4.5.5.62\n",
      "  Downloading opencv_python-4.5.5.62-cp36-abi3-win_amd64.whl (35.4 MB)\n",
      "Requirement already satisfied: numpy>=1.17.3 in c:\\users\\hp\\anaconda3\\lib\\site-packages (from opencv-python==4.5.5.62) (1.20.3)\n",
      "Installing collected packages: opencv-python\n",
      "Successfully installed opencv-python-4.5.5.62\n"
     ]
    }
   ],
   "source": [
    "!pip install opencv-python==4.5.5.62"
   ]
  },
  {
   "cell_type": "code",
   "execution_count": 12,
   "id": "a2a0368d",
   "metadata": {},
   "outputs": [],
   "source": [
    "# Setting up the Environment:\n",
    "# To read data and numerical calculation:\n",
    "import numpy as np\n",
    "import pandas as pd\n",
    "import os\n",
    "import splitfolders\n",
    "\n",
    "# Model packages:\n",
    "import tensorflow\n",
    "import keras\n",
    "\n",
    "\n",
    "#Image viewing libaries:\n",
    "import cv2\n",
    "import glob\n",
    "\n",
    "# Image preprocessing libaries:\n",
    "from tensorflow.keras.preprocessing.image import ImageDataGenerator"
   ]
  },
  {
   "cell_type": "code",
   "execution_count": 11,
   "id": "0bd30581",
   "metadata": {},
   "outputs": [],
   "source": [
    "for img in glob.glob(r'/*.jpg'):\n",
    "    img=cv2.imread(img)\n",
    "    img=np.expand_dims(img,axis=0)\n",
    "\n",
    "    datagen=keras.preprocessing.image.ImageDataGenerator(height_shift_range=[0, 0.2])\n",
    "    img_gen=datagen.flow(img,batch_size=1,save_to_dir=r'', save_prefix='horizontal_shift',save_format='JPG')\n",
    "    \n",
    "    for i in range(1):\n",
    "        batch = img_gen.next()\n",
    "        \n",
    "    datagen_width=keras.preprocessing.image.ImageDataGenerator(width_shift_range=[0, 0.2])\n",
    "    img_gen_w=datagen_width.flow(img,batch_size=1,save_to_dir=r'', save_prefix='width_shift',save_format='JPG')\n",
    "    \n",
    "    for j in range(1):\n",
    "        batch = img_gen_w.next()\n",
    "        \n",
    "    datagen_rotation=keras.preprocessing.image.ImageDataGenerator(rotation_range=20)\n",
    "    img_gen_r=datagen_rotation.flow(img,batch_size=1,save_to_dir=r'', save_prefix='rotated',save_format='JPG')\n",
    "    \n",
    "    for k in range(1):\n",
    "        batch = img_gen_r.next()\n",
    "        \n",
    "    datagen_shear=keras.preprocessing.image.ImageDataGenerator(shear_range=0.02)\n",
    "    img_gen_s=datagen_shear.flow(img,batch_size=1,save_to_dir=r'', save_prefix='shear',save_format='JPG')\n",
    "    \n",
    "    for l in range(1):\n",
    "        batch = img_gen_s.next()\n",
    "        \n",
    "    datagen_flip=keras.preprocessing.image.ImageDataGenerator(horizontal_flip=True)\n",
    "    img_gen_f=datagen_flip.flow(img,batch_size=1,save_to_dir=r'', save_prefix='hflip',save_format='JPG')\n",
    "\n",
    "    for o in range(1):\n",
    "        batch = img_gen_f.next()"
   ]
  },
  {
   "cell_type": "code",
   "execution_count": 13,
   "id": "467894b8",
   "metadata": {},
   "outputs": [
    {
     "name": "stderr",
     "output_type": "stream",
     "text": [
      "Copying files: 3491 files [00:36, 95.61 files/s] \n"
     ]
    }
   ],
   "source": [
    "splitfolders.ratio(\n",
    "    r'', \n",
    "    output=r'', \n",
    "    seed=21, \n",
    "    ratio=(0.8, 0.1, 0.1), \n",
    "    group_prefix=None\n",
    ")"
   ]
  },
  {
   "cell_type": "code",
   "execution_count": null,
   "id": "01ce26b1",
   "metadata": {},
   "outputs": [],
   "source": []
  }
 ],
 "metadata": {
  "kernelspec": {
   "display_name": "Python 3 (ipykernel)",
   "language": "python",
   "name": "python3"
  },
  "language_info": {
   "codemirror_mode": {
    "name": "ipython",
    "version": 3
   },
   "file_extension": ".py",
   "mimetype": "text/x-python",
   "name": "python",
   "nbconvert_exporter": "python",
   "pygments_lexer": "ipython3",
   "version": "3.9.7"
  }
 },
 "nbformat": 4,
 "nbformat_minor": 5
}
